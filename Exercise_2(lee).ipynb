{
  "nbformat": 4,
  "nbformat_minor": 0,
  "metadata": {
    "colab": {
      "provenance": [],
      "include_colab_link": true
    },
    "kernelspec": {
      "name": "python3",
      "display_name": "Python 3"
    },
    "language_info": {
      "name": "python"
    }
  },
  "cells": [
    {
      "cell_type": "markdown",
      "metadata": {
        "id": "view-in-github",
        "colab_type": "text"
      },
      "source": [
        "<a href=\"https://colab.research.google.com/github/ryooma13/CCDEPLRL_EXERCISES_COM211/blob/main/Exercise_2(lee).ipynb\" target=\"_parent\"><img src=\"https://colab.research.google.com/assets/colab-badge.svg\" alt=\"Open In Colab\"/></a>"
      ]
    },
    {
      "cell_type": "markdown",
      "source": [
        "# Exercise 2"
      ],
      "metadata": {
        "id": "tqFPmGbJ7Oah"
      }
    },
    {
      "cell_type": "markdown",
      "source": [
        "\n",
        "## Forward Pass and Backward Pass"
      ],
      "metadata": {
        "id": "cUkdx6a498S8"
      }
    },
    {
      "cell_type": "markdown",
      "source": [
        "<img src=\"https://github.com/robitussin/CCDEPLRL_EXERCISES/blob/main/images/exercise2.png?raw=true\"/>"
      ],
      "metadata": {
        "id": "0Q5Io34f-x38"
      }
    },
    {
      "cell_type": "markdown",
      "source": [
        "<img src=\"\"/>"
      ],
      "metadata": {
        "id": "-ZTBRmkM7JMR"
      }
    },
    {
      "cell_type": "markdown",
      "source": [
        "1. What is the predicted output? (`20 points`)"
      ],
      "metadata": {
        "id": "7HD5MNgg7hIu"
      }
    },
    {
      "cell_type": "code",
      "execution_count": null,
      "metadata": {
        "id": "2cbutiml5cm_",
        "colab": {
          "base_uri": "https://localhost:8080/"
        },
        "outputId": "dfe0be08-53e9-42c8-9aed-178026f4318d"
      },
      "outputs": [
        {
          "output_type": "stream",
          "name": "stdout",
          "text": [
            "4.0\n"
          ]
        }
      ],
      "source": [
        "print(\"4.0\")"
      ]
    },
    {
      "cell_type": "markdown",
      "source": [
        "2. Find the loss using the Mean Squared Error (MSE) function (`20 points`)"
      ],
      "metadata": {
        "id": "JTh2z2v97k0J"
      }
    },
    {
      "cell_type": "code",
      "source": [
        "print(\"9.0\")"
      ],
      "metadata": {
        "id": "F2D7opAr7t3U",
        "colab": {
          "base_uri": "https://localhost:8080/"
        },
        "outputId": "6a7b9f2a-e2ef-49c9-b4e6-ec0b76a0a1f4"
      },
      "execution_count": null,
      "outputs": [
        {
          "output_type": "stream",
          "name": "stdout",
          "text": [
            "9\n"
          ]
        }
      ]
    },
    {
      "cell_type": "markdown",
      "source": [
        "3. What is the derivative of $z_{2}$ with respect to $w_{1}$? (`20 points`)"
      ],
      "metadata": {
        "id": "wz5D8wEl7wtT"
      }
    },
    {
      "cell_type": "code",
      "source": [
        "print(\"2.0\")"
      ],
      "metadata": {
        "id": "n8Q_9JJ57xFL",
        "colab": {
          "base_uri": "https://localhost:8080/"
        },
        "outputId": "c19fa180-7e8e-4482-e196-0aa54f450fb9"
      },
      "execution_count": null,
      "outputs": [
        {
          "output_type": "stream",
          "name": "stdout",
          "text": [
            "2\n"
          ]
        }
      ]
    },
    {
      "cell_type": "markdown",
      "source": [
        "4. What is the derivative of the loss with respect to $z_{2}$? (`20 points`)"
      ],
      "metadata": {
        "id": "HVpt0n-E9TIx"
      }
    },
    {
      "cell_type": "code",
      "source": [
        "print(\"6.0\")"
      ],
      "metadata": {
        "id": "KM4fEL059grQ",
        "colab": {
          "base_uri": "https://localhost:8080/"
        },
        "outputId": "5d4b8646-cb4d-4dca-9579-eecd89f3282d"
      },
      "execution_count": null,
      "outputs": [
        {
          "output_type": "stream",
          "name": "stdout",
          "text": [
            "6\n"
          ]
        }
      ]
    },
    {
      "cell_type": "markdown",
      "source": [
        "5. What is the derivative of the loss with respect to $w_{1}$? (`20 points`)"
      ],
      "metadata": {
        "id": "hlO5xdMx9hhl"
      }
    },
    {
      "cell_type": "code",
      "source": [
        "print(\"8.0*w1-2.0\")"
      ],
      "metadata": {
        "id": "-xP2grHW9hxK",
        "colab": {
          "base_uri": "https://localhost:8080/"
        },
        "outputId": "ec96c2d8-9eec-4d32-d029-b62381ff4876"
      },
      "execution_count": null,
      "outputs": [
        {
          "output_type": "stream",
          "name": "stdout",
          "text": [
            "12\n"
          ]
        }
      ]
    }
  ]
}
