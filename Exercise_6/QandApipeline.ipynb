{
  "nbformat": 4,
  "nbformat_minor": 0,
  "metadata": {
    "colab": {
      "provenance": [],
      "gpuType": "T4"
    },
    "kernelspec": {
      "name": "python3",
      "display_name": "Python 3"
    },
    "language_info": {
      "name": "python"
    },
    "accelerator": "GPU"
  },
  "cells": [
    {
      "cell_type": "code",
      "execution_count": 7,
      "metadata": {
        "id": "Mx3X7pCRr0JX"
      },
      "outputs": [],
      "source": [
        "from transformers import pipeline"
      ]
    },
    {
      "cell_type": "code",
      "source": [
        "oracle = pipeline(model=\"deepset/roberta-base-squad2\")\n",
        "oracle(question=\"What are the grades that francis?\", context=\"My name is Francis, I got a grade of 95 in math, 85 in science and 70 in english\")"
      ],
      "metadata": {
        "colab": {
          "base_uri": "https://localhost:8080/"
        },
        "id": "bQ32Of9asU0L",
        "outputId": "fed40173-6e94-4b56-f41a-15b0ac7e899f"
      },
      "execution_count": 16,
      "outputs": [
        {
          "output_type": "execute_result",
          "data": {
            "text/plain": [
              "{'score': 0.4193674325942993,\n",
              " 'start': 101,\n",
              " 'end': 116,\n",
              " 'answer': '88, 89, and 100'}"
            ]
          },
          "metadata": {},
          "execution_count": 16
        }
      ]
    }
  ]
}